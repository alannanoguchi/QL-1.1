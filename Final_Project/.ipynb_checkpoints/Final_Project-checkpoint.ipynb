{
 "cells": [
  {
   "cell_type": "markdown",
   "metadata": {},
   "source": [
    "## Final Project: Linear Regression\n",
    "\n",
    "- We want to present the relationship between (two) variables linearly\n",
    "\n",
    "- For example, recall the running distance and drinking water \n",
    "\n",
    "- We are interested to obtain the best line describing by `y_pred[i] = w_1 x[i] +w_0` that maps running distance to drinking water\n",
    "\n",
    "- Below, list `x` represents running distance in miles and list `y` represents the drinking water in litres "
   ]
  },
  {
   "cell_type": "code",
   "execution_count": 59,
   "metadata": {},
   "outputs": [
    {
     "data": {
      "text/plain": [
       "Text(0, 0.5, 'Water Drinks (Litre)')"
      ]
     },
     "execution_count": 59,
     "metadata": {},
     "output_type": "execute_result"
    },
    {
     "data": {
      "image/png": "[encoded data removed]",
      "text/plain": [
       "<Figure size 432x288 with 1 Axes>"
      ]
     },
     "metadata": {
      "needs_background": "light"
     },
     "output_type": "display_data"
    }
   ],
   "source": [
    "import numpy as np\n",
    "import matplotlib.pyplot as plt\n",
    "\n",
    "# Running Distance in Mile\n",
    "x = np.array([3.3,4.4,5.5,6.71,6.93,4.168,9.779,6.182,7.59,2.167,\n",
    "                         7.042,10.791,5.313,7.997,5.654,9.27,3.1])\n",
    "\n",
    "# Water Drinks in Litre\n",
    "y = np.array([1.7,2.76,2.09,3.19,1.694,1.573,3.366,2.596,2.53,1.221,\n",
    "                         2.827,3.465,1.65,2.904,2.42,2.94,1.3])\n",
    "\n",
    "plt.scatter(x, y)\n",
    "plt.xlabel('Running Distance (Mile)')\n",
    "plt.ylabel('Water Drinks (Litre)')"
   ]
  },
  {
   "cell_type": "markdown",
   "metadata": {},
   "source": [
    "## In order to obtain the best line, we should define error first\n",
    "\n",
    "- For linear relationship, mean-square-error (MSE) represents is it a good line (good model) or not \n",
    "\n",
    "- $y[i]$ and $y_{pred}[i]$ are i-th element of list `y` and list `y_pred` respectively where `y_pred[i] = w_1 x[i] +w_0`\n",
    "\n",
    "- Define error as: $E[i] = y_{pred}[i] - y[i]$\n",
    "\n",
    "- Define mean-square-error as: $MSE = \\frac{1}{N} \\sum_{i=0}^{N-1} E[i]^2$\n",
    "\n",
    "- Also mean-square-error is equal to: $MSE = \\frac{1}{N} \\sum_{i=0}^{N-1} (y_{pred}[i] - y[i])^2$ \n",
    "\n",
    "- The parameter $N$ is: $N = len(y)$"
   ]
  },
  {
   "cell_type": "markdown",
   "metadata": {},
   "source": [
    "### Question 1: Obtain the MSE for the following two lines:\n",
    "\n",
    "1- `y_pred[i] = 0.7*x[i] + 0.3`\n",
    "\n",
    "2- `y_pred[i] = 0.25163494*x[i] + 0.79880123`\n",
    "\n",
    "Hint: Your function take four input arguments: 1- y, 2- x, 3- slope, 4-intercept"
   ]
  },
  {
   "cell_type": "code",
   "execution_count": 140,
   "metadata": {},
   "outputs": [
    {
     "name": "stdout",
     "output_type": "stream",
     "text": [
      "143.64578872999996\n",
      "14.417153458037697\n"
     ]
    }
   ],
   "source": [
    "def min_sq_error(y, x, w1, w0):\n",
    "    \n",
    "    y_pred = [w1*x[i] + w0 for i in range(len(x))]\n",
    "    # Recall Error as E[i] = y_pred[i] - y[i]\n",
    "    Error = [y_pred - y[i] for i in range(len(y))]\n",
    "    squared_error = np.power(Error, 2)\n",
    "    sum_squared_error = np.sum(squared_error)\n",
    "    N = len(y)\n",
    "    mse = sum_squared_error/N\n",
    "#     print(\"Mean of Error is: \" + str(np.mean(Error)))\n",
    "#     print(\"Variance of Error is: \" + str(np.var(Error)))\n",
    "    return mse\n",
    "\n",
    "print(min_sq_error(y, x, 0.7, 0.3))\n",
    "print(min_sq_error(y, x, 0.25163494, 0.79880123))\n"
   ]
  },
  {
   "cell_type": "markdown",
   "metadata": {},
   "source": [
    "## Question 2: Obtain the best line (Coding is not required)\n",
    "\n",
    "- In order the best line, we want to obtain which slope ($w_1$) and intercept ($w_0$) minimize the mean-square-error (MSE)\n",
    "\n",
    "- Mathematically:\n",
    "\n",
    "    - $MSE = \\frac{1}{N} \\sum_{i=0}^{N-1} (y_{pred}[i] - y[i])^2$ \n",
    "\n",
    "    - $MSE = f(w_1, w_0)= \\frac{1}{N} \\sum_{i=0}^{N-1} (w_1x[i] + w_0 - y[i])^2$ \n",
    "\n",
    "The steps in order to obtain the best line: \n",
    "\n",
    "1- Compute: \n",
    "\n",
    "$\\frac{\\partial MSE}{\\partial w_1}$ \n",
    "\n",
    "and\n",
    "\n",
    "$\\frac{\\partial MSE}{\\partial w_0}$\n",
    "\n",
    "2- then obtain $w_1$ and $w_0$ such that:\n",
    "\n",
    "\n",
    "$\\frac{\\partial MSE}{\\partial w_1} = 0$ \n",
    "\n",
    "and\n",
    "\n",
    "$\\frac{\\partial MSE}{\\partial w_0} = 0$\n",
    "\n",
    "- For this part, you need to use partial derivative and you use derivative table\n",
    "\n",
    "- For this part, write down the steps and the solution on a paper "
   ]
  },
  {
   "cell_type": "markdown",
   "metadata": {},
   "source": [
    "## Question 3: Write a code to return the slope and intercept with given list x and y\n",
    "\n",
    "- After taking partial derivative of mean-squared-error and setting to zero for both $w_1$ and $w_0$ ($\\frac{\\partial MSE}{\\partial w_1} = 0$ $\\frac{\\partial MSE}{\\partial w_0} = 0$)\n",
    "\n",
    "- $w_1$ = is obtained from list x and list y\n",
    "- $w_0 $ = is obtained from $w_1$, list x and list y\n",
    "- Write a Python function that return $w_1$ and $w_0$ from your calculation on the paper "
   ]
  },
  {
   "cell_type": "code",
   "execution_count": 165,
   "metadata": {},
   "outputs": [
    {
     "name": "stdout",
     "output_type": "stream",
     "text": [
      "(0.25163494428355315, 0.7988012261753947)\n"
     ]
    }
   ],
   "source": [
    "def slope_intercept_LR(x, y):\n",
    "    x_bar = np.mean(x)\n",
    "    y_bar = np.mean(y)\n",
    "    xy_bar = np.mean(x*y)\n",
    "    x_squared_bar = np.mean(np.square(x))\n",
    "    x_bar_squared = x_bar ** 2\n",
    "    w1 = ((xy_bar - x_bar * y_bar)/(x_squared_bar - x_bar_squared))\n",
    "    w0 = (y_bar - w1*x_bar)\n",
    "    return w1, w0\n",
    "\n",
    "print(slope_intercept_LR(x, y))"
   ]
  },
  {
   "cell_type": "markdown",
   "metadata": {},
   "source": [
    "## Question 4: After obtain the best line, obtain the variance and mean of error\n",
    "\n",
    "- In Question 3, we have obtained the best line\n",
    "- So, we can error list which its element is: $E[i] = y_{pred}[i] - y[i]$\n",
    "- Write a function that calculate variance and mean of list $E$\n",
    "- Plot the distribution of the error for optimal line"
   ]
  },
  {
   "cell_type": "code",
   "execution_count": 141,
   "metadata": {},
   "outputs": [
    {
     "name": "stdout",
     "output_type": "stream",
     "text": [
      "('Mean: -4.272635294117647', 'Variance: 5.7272199916955016')\n",
      "('Mean: -4.834771293738823', 'Variance: 5.5134692694264995')\n"
     ]
    },
    {
     "data": {
      "text/plain": [
       "[<matplotlib.lines.Line2D at 0x1156a0690>]"
      ]
     },
     "execution_count": 141,
     "metadata": {},
     "output_type": "execute_result"
    },
    {
     "data": {
      "image/png": "[encoded data removed]",
      "text/plain": [
       "<Figure size 432x288 with 1 Axes>"
      ]
     },
     "metadata": {
      "needs_background": "light"
     },
     "output_type": "display_data"
    }
   ],
   "source": [
    "def e_calculations(x, y, w1, w0):\n",
    "    \n",
    "    y_pred = [w1*x[i] + w0 for i in range(len(x))]\n",
    "    Error = [y_pred - y[i] for i in range(len(y))]\n",
    "    mean_E = np.mean(Error)\n",
    "    var_E = np.var(Error)\n",
    "    return \"Mean: \" + str(mean_E), \"Variance: \" + str(var_E)\n",
    "    \n",
    "print(e_calculations(y, x, 0.7, 0.3))\n",
    "print(e_calculations(y, x, 0.25163494, 0.79880123))\n",
    "\n",
    "\n",
    "plt.scatter(x, y)\n",
    "plt.xlabel('Running Distance (Mile)')\n",
    "plt.ylabel('Water Drinks (Litre)')\n",
    "plt.plot(x, y_pred, 'red') # best line"
   ]
  },
  {
   "cell_type": "markdown",
   "metadata": {},
   "source": [
    "## Question 5: (Optional but Bonus point) In almost all applications, we update the slope and intercept through iteration\n",
    "\n",
    "- Instead of putting the $\\frac{\\partial MSE}{\\partial w_1} = 0$ $\\frac{\\partial MSE}{\\partial w_0} = 0$\n",
    "    - Initialize the $w_1$ and $w_0$ with arbitrary value, then update them by follwing Gradient Updating Rule:\n",
    "    - $w_1 = w_1 - step*\\frac{\\partial MSE}{\\partial w_1}$\n",
    "    - $w_0 = w_0 - step*\\frac{\\partial MSE}{\\partial w_0}$"
   ]
  },
  {
   "cell_type": "code",
   "execution_count": 174,
   "metadata": {},
   "outputs": [
    {
     "ename": "TypeError",
     "evalue": "'int' object is not callable",
     "output_type": "error",
     "traceback": [
      "\u001b[0;31m---------------------------------------------------------------------------\u001b[0m",
      "\u001b[0;31mTypeError\u001b[0m                                 Traceback (most recent call last)",
      "\u001b[0;32m<ipython-input-174-c29cc5e58c08>\u001b[0m in \u001b[0;36m<module>\u001b[0;34m\u001b[0m\n\u001b[1;32m     13\u001b[0m \u001b[0mepoch\u001b[0m \u001b[0;34m=\u001b[0m \u001b[0;36m5000\u001b[0m\u001b[0;34m\u001b[0m\u001b[0;34m\u001b[0m\u001b[0m\n\u001b[1;32m     14\u001b[0m \u001b[0;32mfor\u001b[0m \u001b[0m_\u001b[0m \u001b[0;32min\u001b[0m \u001b[0mrange\u001b[0m\u001b[0;34m(\u001b[0m\u001b[0mepoch\u001b[0m\u001b[0;34m)\u001b[0m\u001b[0;34m:\u001b[0m\u001b[0;34m\u001b[0m\u001b[0;34m\u001b[0m\u001b[0m\n\u001b[0;32m---> 15\u001b[0;31m     \u001b[0mw_1\u001b[0m \u001b[0;34m=\u001b[0m \u001b[0mw_1\u001b[0m \u001b[0;34m-\u001b[0m \u001b[0mstep\u001b[0m\u001b[0;34m*\u001b[0m\u001b[0;36m2\u001b[0m\u001b[0;34m(\u001b[0m\u001b[0;34m(\u001b[0m\u001b[0mw_1\u001b[0m\u001b[0;34m*\u001b[0m\u001b[0mx_bar\u001b[0m\u001b[0;34m)\u001b[0m \u001b[0;34m+\u001b[0m \u001b[0;34m(\u001b[0m\u001b[0mw_0\u001b[0m\u001b[0;34m*\u001b[0m\u001b[0mx_bar\u001b[0m\u001b[0;34m)\u001b[0m \u001b[0;34m-\u001b[0m \u001b[0mxy_bar\u001b[0m\u001b[0;34m)\u001b[0m\u001b[0;34m\u001b[0m\u001b[0;34m\u001b[0m\u001b[0m\n\u001b[0m\u001b[1;32m     16\u001b[0m     \u001b[0mw_0\u001b[0m \u001b[0;34m=\u001b[0m \u001b[0;34m(\u001b[0m\u001b[0my_bar\u001b[0m \u001b[0;34m-\u001b[0m \u001b[0mw_1\u001b[0m\u001b[0;34m*\u001b[0m\u001b[0mx_bar\u001b[0m\u001b[0;34m)\u001b[0m \u001b[0;34m-\u001b[0m \u001b[0mstep\u001b[0m\u001b[0;34m*\u001b[0m\u001b[0;34m(\u001b[0m\u001b[0;36m2\u001b[0m\u001b[0;34m(\u001b[0m\u001b[0mw_1\u001b[0m\u001b[0;34m*\u001b[0m\u001b[0mx_bar\u001b[0m\u001b[0;34m)\u001b[0m \u001b[0;34m+\u001b[0m \u001b[0;36m2\u001b[0m\u001b[0;34m(\u001b[0m\u001b[0mw_0\u001b[0m\u001b[0;34m)\u001b[0m \u001b[0;34m-\u001b[0m \u001b[0;36m2\u001b[0m\u001b[0;34m(\u001b[0m\u001b[0my_bar\u001b[0m\u001b[0;34m)\u001b[0m\u001b[0;34m)\u001b[0m\u001b[0;34m\u001b[0m\u001b[0;34m\u001b[0m\u001b[0m\n\u001b[1;32m     17\u001b[0m \u001b[0;34m\u001b[0m\u001b[0m\n",
      "\u001b[0;31mTypeError\u001b[0m: 'int' object is not callable"
     ]
    }
   ],
   "source": [
    "import numpy as np\n",
    "\n",
    "w_0 = np.random.randn()\n",
    "w_1 = np.random.randn()\n",
    "\n",
    "x_bar = np.mean(x)\n",
    "y_bar = np.mean(y)\n",
    "xy_bar = np.mean(x*y)\n",
    "x_squared_bar = np.mean(np.square(x))\n",
    "x_bar_squared = x_bar ** 2\n",
    "\n",
    "step = 0.01\n",
    "epoch = 5000\n",
    "for _ in range(epoch):\n",
    "    w_1 = w_1 - step*2((w_1*x_bar) + (w_0*x_bar) - xy_bar)\n",
    "    w_0 = w_0 - step*(2(w_1*x_bar) + 2(w_0) - 2(y_bar))\n",
    "    \n",
    "print(w_1)\n",
    "print(w_0)"
   ]
  },
  {
   "cell_type": "code",
   "execution_count": null,
   "metadata": {},
   "outputs": [],
   "source": []
  }
 ],
 "metadata": {
  "kernelspec": {
   "display_name": "Python 3",
   "language": "python",
   "name": "python3"
  },
  "language_info": {
   "codemirror_mode": {
    "name": "ipython",
    "version": 3
   },
   "file_extension": ".py",
   "mimetype": "text/x-python",
   "name": "python",
   "nbconvert_exporter": "python",
   "pygments_lexer": "ipython3",
   "version": "3.7.4"
  }
 },
 "nbformat": 4,
 "nbformat_minor": 2
}
