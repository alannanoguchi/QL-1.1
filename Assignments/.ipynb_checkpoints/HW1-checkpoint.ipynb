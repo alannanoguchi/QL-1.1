{
 "cells": [
  {
   "cell_type": "markdown",
   "metadata": {},
   "source": [
    "# HW1 - Covariance Matrix\n",
    "\n",
    "**Covariance** is used to measure how two random variables change or vary together. For example, the height and weight of giraffes have a positive covariance because when one is big, the other tends to also be big.\n",
    "\n",
    "_In this assignment, we will calculate the **covariance matrix** for a given dataset._\n",
    "\n",
    "This assignment will consist of two parts:\n",
    "\n",
    "## Part 1\n",
    "\n",
    "**IMPORTANT NOTE:** in the video, the equation he uses has $n$ as the denominator, but when he calculates covariance values, he's using $n-1$ as the denominator. _For our purposes, we will be using $n-1$ as the denominator._\n",
    "\n",
    "Watch this video on covariance matrices: https://www.youtube.com/watch?v=0GzMcUy7ZI0\n",
    "\n",
    "Mathematically, we can represent Covariance as such:\n",
    "\n",
    "$Cov(X,Y)=1/(n-1) \\sum_{i=1}^{n}(x[i] - \\bar{x})(y[i] - \\bar{y})$\n",
    "\n",
    "Where $n$ is the number of elements in arrays $x$ and $y$\n",
    "\n",
    "## Part 2\n",
    "\n",
    "Write a Python function that returns the covariance matrix for a given dataset, just like we watched in the video or any other dataset of your choosing. Below are various places you can get datasets from:\n",
    "\n",
    "### Dataset Resources\n",
    "\n",
    "- [Kaggle](https://www.kaggle.com/datasets)\n",
    "- [Fivethirtyeight](https://github.com/fivethirtyeight/data)\n",
    "- [Buzzfeed News](https://github.com/BuzzFeedNews/everything)\n",
    "- [Google Cloud BigQuery Public Datasets](https://cloud.google.com/bigquery/public-data/)\n",
    "- [Wikipedia](https://en.wikipedia.org/wiki/Wikipedia:Database_download)\n",
    "- Can't find anything from above? Google around until you do!\n",
    "\n",
    "## Part 3\n",
    "\n",
    "Use [numpy's var function](https://docs.scipy.org/doc/numpy/reference/generated/numpy.var.html) to confirm that the covariance between a variable and itself is the same as the variance of the variable.\n",
    "\n",
    "For example, assuming your covariance function is named `cov`, ensure that the following is true: `cov(X, X) == np.var(X)`\n",
    "\n",
    "### Hints\n",
    "\n",
    "1. Obtain the covariance between columns $x$ and $y$, between columns $x$ and $z$, and columns $y$ and $z$\n",
    "1. The covariance between columns $x$ and $y$ is the same as the covariance between columns $y$ and $x$. _We can generalize this for any two columns_\n",
    "1. Show that the covariance between columns $x$ and $x$ is equal to the variance of column $x$. _We can generalize this for any other column_\n",
    "\n",
    "## Testing Your Code\n",
    "\n",
    "Verify your code with numpy built-in `np.cov()` function as follows:"
   ]
  },
  {
   "cell_type": "code",
   "execution_count": 3,
   "metadata": {},
   "outputs": [
    {
     "name": "stdout",
     "output_type": "stream",
     "text": [
      "[[0.         0.         0.        ]\n",
      " [0.         1.66666667 1.16666667]\n",
      " [0.         1.16666667 0.91666667]]\n"
     ]
    }
   ],
   "source": [
    "import numpy as np\n",
    "\n",
    "def cov_matrix_calculation(data):\n",
    "    # calculate covariance matrix of the data\n",
    "    cov_matx = np.cov(data.T)\n",
    "    return cov_matx\n",
    "\n",
    "dataset = np.array([[1, 1, 1], [1, 2, 1], [1, 3, 2], [1, 4, 3]])\n",
    "print(cov_matrix_calculation(dataset))"
   ]
  },
  {
   "cell_type": "markdown",
   "metadata": {},
   "source": [
    "# Requirements\n",
    "\n",
    "To pass this assignment, you must meet the following requirements:\n",
    "\n",
    "1. Your function should return the covariance between 6 pairs of random variables: $(X,Y), (X, Z), (Y, Z), (X, X), (Y, Y), and (Z, Z)$\n",
    "1. Verify that your function's return value is correct by using `np.cov(DATA)` where `DATA` is the return value of your covariance function\n",
    "1. Verify that your covariance function for each variable with itself returns the same value as `np.var` of that variable\n",
    "\n",
    "## Stretch Challenges\n",
    "\n",
    "These are optional challenges for those who want to further expand their skillset:\n",
    "\n",
    "1. Your function should display the covariance in a matrix format"
   ]
  },
  {
   "cell_type": "markdown",
   "metadata": {},
   "source": [
    "## Turning In Your HW\n",
    "\n",
    "Once you have finished your assignment, provide a link to your repo on GitHub and place the link in the appropriate `HW1` column in the progress tracker. See the syllabus for more details on submission links"
   ]
  },
  {
   "cell_type": "code",
   "execution_count": null,
   "metadata": {},
   "outputs": [],
   "source": []
  }
 ],
 "metadata": {
  "kernelspec": {
   "display_name": "Python 3",
   "language": "python",
   "name": "python3"
  },
  "language_info": {
   "codemirror_mode": {
    "name": "ipython",
    "version": 3
   },
   "file_extension": ".py",
   "mimetype": "text/x-python",
   "name": "python",
   "nbconvert_exporter": "python",
   "pygments_lexer": "ipython3",
   "version": "3.7.5"
  }
 },
 "nbformat": 4,
 "nbformat_minor": 2
}
