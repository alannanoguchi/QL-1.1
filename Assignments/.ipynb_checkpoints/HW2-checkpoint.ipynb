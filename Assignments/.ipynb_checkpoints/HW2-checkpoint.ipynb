{
 "cells": [
  {
   "cell_type": "markdown",
   "metadata": {},
   "source": [
    "# HW2 - Probability:\n",
    "\n",
    "In this assignment, we will calculate the chance of getting a specific outcome from probabilistic events on piece of paper and then write a function to verify that our paper calculations are correct.\n",
    "\n",
    "## Problem To Solve \n",
    "\n",
    "We have a coin that we want to flip. We know the following about the coin:\n",
    "\n",
    "- The probability of getting a 'Head' is $P(H) = a$\n",
    "- The probability of getting a 'Tail' is $P(T) = 1 - a$\n",
    "\n",
    "$a$ can be any decimal number between 0 and 1. For example, if $a = 0.5$, then it is a fair coin.\n",
    "\n",
    "**Given the above probabilities for $P(H)$ and $P(T)$, if we toss this coin three times, what is the probability that we get some combination of two heads and one tail?**\n",
    "\n",
    "## Part 1 - Paper Calculation\n",
    "\n",
    "Calculate this probability on a piece of paper. Show your answer in terms of $a$\n",
    "\n",
    "_Make sure to show your work, and when you're finished, take a picture to upload to your GitHub repo_\n",
    "\n",
    "\n",
    "## Part 2\n",
    "\n",
    "Write a function `verify_head` that we will use to verify if your paper solution is correct. Your function should have two parameters: \n",
    "    \n",
    "- `prob_head`: Probability of getting a 'Head' (type: `float`)\n",
    "- `num_flips`: Number of times we flip the coin (type: `integer`)\n",
    "\n",
    "**Your function should then return the probability (float) of tossing a coin `num_flips` times and getting some combination of two heads and one tail, given that we know the probability of getting a heads is `prob_head`**\n",
    "\n",
    "\n",
    "## Requirements\n",
    "\n",
    "To pass this assignment, you must fulfuill the following requirements:\n",
    "\n",
    "1. You must upload a picture of your own, original work showing how you calculated the probability of getting two heads\n",
    "1. Your function must take in two parameters: the probability of getting Heads, and the number of flips.\n",
    "1. Your function must return the correct decimal number (float) that corresponds to the probability of getting the input number of heads based on the input number of trials\n",
    "    1. Note that your return value may differ slightly from the hand-calculated value, but they should be at least the same for the first 1-2 decimals if you use a `num_flips` value between 1000-2000\n",
    "\n",
    "\n",
    "## Turning In Your HW\n",
    "\n",
    "Once you have finished your assignment, provide a link to your repo on GitHub and place the link in the appropriate HW2 column in the progress tracker. See the syllabus for more details on submission links\n",
    "\n",
    "\n",
    "## Hints: \n",
    "\n",
    "- Using a `num_flips` of 1000 (or higher!) is a good test number, as the probability will better align with what you get in your hand-calculated value\n",
    "- For Part 2, we can generate events with given probabilities as follows. Think about how you could use this for your function:"
   ]
  },
  {
   "cell_type": "code",
   "execution_count": 28,
   "metadata": {},
   "outputs": [
    {
     "ename": "NameError",
     "evalue": "name 'random' is not defined",
     "output_type": "error",
     "traceback": [
      "\u001b[0;31m---------------------------------------------------------------------------\u001b[0m",
      "\u001b[0;31mNameError\u001b[0m                                 Traceback (most recent call last)",
      "\u001b[0;32m<ipython-input-28-8c53efaa5adf>\u001b[0m in \u001b[0;36m<module>\u001b[0;34m\u001b[0m\n\u001b[1;32m     26\u001b[0m     \u001b[0;32mreturn\u001b[0m \u001b[0mC\u001b[0m\u001b[0;34m/\u001b[0m\u001b[0mtrial\u001b[0m\u001b[0;34m\u001b[0m\u001b[0;34m\u001b[0m\u001b[0m\n\u001b[1;32m     27\u001b[0m \u001b[0;34m\u001b[0m\u001b[0m\n\u001b[0;32m---> 28\u001b[0;31m \u001b[0mprint\u001b[0m\u001b[0;34m(\u001b[0m\u001b[0mrandom\u001b[0m\u001b[0;34m.\u001b[0m\u001b[0mchoices\u001b[0m\u001b[0;34m(\u001b[0m\u001b[0mevent\u001b[0m\u001b[0;34m,\u001b[0m \u001b[0msize\u001b[0m \u001b[0;34m=\u001b[0m \u001b[0;36m10\u001b[0m\u001b[0;34m)\u001b[0m\u001b[0;34m)\u001b[0m\u001b[0;34m\u001b[0m\u001b[0;34m\u001b[0m\u001b[0m\n\u001b[0m\u001b[1;32m     29\u001b[0m \u001b[0;34m\u001b[0m\u001b[0m\n\u001b[1;32m     30\u001b[0m \u001b[0mprobability\u001b[0m\u001b[0;34m(\u001b[0m\u001b[0;36m0.375\u001b[0m\u001b[0;34m,\u001b[0m \u001b[0;36m1000\u001b[0m\u001b[0;34m)\u001b[0m\u001b[0;34m\u001b[0m\u001b[0;34m\u001b[0m\u001b[0m\n",
      "\u001b[0;31mNameError\u001b[0m: name 'random' is not defined"
     ]
    }
   ],
   "source": [
    "from random import choices\n",
    "\n",
    "event = ['H', 'T']\n",
    "\n",
    "# Here we are saying the probability of getting Heads is 0.3,\n",
    "# and that the probability of getting Tails is 0.7\n",
    "weights = [0.3, 0.7]\n",
    "\n",
    "# for _ in range(10):\n",
    "#     print(choices(event, weights))\n",
    "    \n",
    "# Look at the below print statement.\n",
    "# The number of Heads should be roughly 30%\n",
    "# and the number of Tails should be roughly 70%\n",
    "# You can change the range above to get more values,\n",
    "# and see the percentage increase\n",
    "\n",
    "def probability(prob_head, trial):\n",
    "    event = ['H', 'T']\n",
    "    weights = [prob_head, 1 - prob_head] # probability of heads, 1-probability of heads = probability of tails \n",
    "    C = 0\n",
    "    for _ in range(trial):\n",
    "        rv = [choices(event, weights)[0], choices(event, weights)[0], choices(event, weights)[0]]\n",
    "        if rv in [['H', 'H', 'T'], ['H', 'T', 'H'], ['T', 'H', 'H']]:\n",
    "            C += 1\n",
    "    return C/trial\n",
    "\n",
    "print(np.random.choices(event, size = 10))\n",
    "\n",
    "probability(0.375, 1000)"
   ]
  },
  {
   "cell_type": "code",
   "execution_count": 27,
   "metadata": {},
   "outputs": [
    {
     "ename": "NameError",
     "evalue": "name 'random' is not defined",
     "output_type": "error",
     "traceback": [
      "\u001b[0;31m---------------------------------------------------------------------------\u001b[0m",
      "\u001b[0;31mNameError\u001b[0m                                 Traceback (most recent call last)",
      "\u001b[0;32m<ipython-input-27-dfb1e2ade3a0>\u001b[0m in \u001b[0;36m<module>\u001b[0;34m\u001b[0m\n\u001b[1;32m      1\u001b[0m \u001b[0;32mfrom\u001b[0m \u001b[0mrandom\u001b[0m \u001b[0;32mimport\u001b[0m \u001b[0mchoices\u001b[0m\u001b[0;34m\u001b[0m\u001b[0;34m\u001b[0m\u001b[0m\n\u001b[1;32m      2\u001b[0m \u001b[0;34m\u001b[0m\u001b[0m\n\u001b[0;32m----> 3\u001b[0;31m \u001b[0mprint\u001b[0m\u001b[0;34m(\u001b[0m\u001b[0mrandom\u001b[0m\u001b[0;34m.\u001b[0m\u001b[0mchoices\u001b[0m\u001b[0;34m(\u001b[0m\u001b[0mevent\u001b[0m\u001b[0;34m,\u001b[0m \u001b[0msize\u001b[0m \u001b[0;34m=\u001b[0m \u001b[0;36m10\u001b[0m\u001b[0;34m)\u001b[0m\u001b[0;34m)\u001b[0m\u001b[0;34m\u001b[0m\u001b[0;34m\u001b[0m\u001b[0m\n\u001b[0m",
      "\u001b[0;31mNameError\u001b[0m: name 'random' is not defined"
     ]
    }
   ],
   "source": [
    "from random import choices\n",
    "\n",
    "print(random.choices(event, size = 10))"
   ]
  },
  {
   "cell_type": "code",
   "execution_count": null,
   "metadata": {},
   "outputs": [],
   "source": []
  }
 ],
 "metadata": {
  "kernelspec": {
   "display_name": "Python 3",
   "language": "python",
   "name": "python3"
  },
  "language_info": {
   "codemirror_mode": {
    "name": "ipython",
    "version": 3
   },
   "file_extension": ".py",
   "mimetype": "text/x-python",
   "name": "python",
   "nbconvert_exporter": "python",
   "pygments_lexer": "ipython3",
   "version": "3.7.4"
  }
 },
 "nbformat": 4,
 "nbformat_minor": 2
}
