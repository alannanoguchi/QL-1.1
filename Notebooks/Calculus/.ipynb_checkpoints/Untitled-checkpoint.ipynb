{
 "cells": [
  {
   "cell_type": "code",
   "execution_count": null,
   "metadata": {},
   "outputs": [],
   "source": [
    "from sympy import symbols, diff\n",
    "# initialize x and y to be symbols to use in a function\n",
    "x, y = symbols('x y', real=True)\n",
    "f = (x**2)/y\n",
    "# Find the partial derivatives of x and y\n",
    "fx = diff(f, x, evaluate=True)\n",
    "fy = diff(f, y, evaluate=True)\n",
    "print(fx)\n",
    "print(fy)\n",
    "# print(f.evalf(subs={x: 2, y: 1}))\n",
    "print(fx.evalf(subs={x: 2, y: 1}))\n",
    "print(fy.evalf(subs={x: 2, y: 1}))"
   ]
  },
  {
   "cell_type": "code",
   "execution_count": null,
   "metadata": {},
   "outputs": [],
   "source": [
    "\n",
    "def f(x, y):\n",
    "    return x**2/y\n",
    "\n",
    "\n",
    "eps = 1e-6\n",
    "x = 2\n",
    "y = 1\n",
    "print((f(x + eps, y) - f(x, y)) / eps)\n",
    "print((f(x, y + eps) - f(x, y)) / eps)"
   ]
  },
  {
   "cell_type": "code",
   "execution_count": null,
   "metadata": {},
   "outputs": [],
   "source": []
  }
 ],
 "metadata": {
  "kernelspec": {
   "display_name": "Python 3",
   "language": "python",
   "name": "python3"
  },
  "language_info": {
   "codemirror_mode": {
    "name": "ipython",
    "version": 3
   },
   "file_extension": ".py",
   "mimetype": "text/x-python",
   "name": "python",
   "nbconvert_exporter": "python",
   "pygments_lexer": "ipython3",
   "version": "3.7.4"
  }
 },
 "nbformat": 4,
 "nbformat_minor": 2
}
