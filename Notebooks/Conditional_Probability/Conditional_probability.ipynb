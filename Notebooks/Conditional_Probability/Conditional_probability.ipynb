{
 "cells": [
  {
   "cell_type": "markdown",
   "metadata": {},
   "source": [
    "## Conditional Probability\n",
    "\n",
    "- Conditional probability has many applications, we learn it by mentioning its application in text analysis\n",
    "\n",
    "- Assume this small dataset is given:\n",
    "\n",
    "<img src=\"spam_ham_data_set.png\" width=\"600\" height=\"600\">"
   ]
  },
  {
   "cell_type": "markdown",
   "metadata": {},
   "source": [
    "## Question: What is the probability that an email be spam? What is the probability that an email be ham?\n",
    "\n",
    "- $P(spam) = ?$\n",
    "\n",
    "- $P(ham) = ?$"
   ]
  },
  {
   "cell_type": "markdown",
   "metadata": {},
   "source": [
    "## Question: We know an email is spam, what is the probability that password be a word in it? (What is the frequency of password in a spam email?)\n",
    "\n",
    "- Hint: Create the dictionary of spam where its key would be unique words in spam emails and the value shows the occurance of that word"
   ]
  },
  {
   "cell_type": "code",
   "execution_count": 2,
   "metadata": {},
   "outputs": [],
   "source": [
    "spam = {\n",
    "    \"password\": 2,\n",
    "    \"review\": 1,\n",
    "    \"send\": 3,\n",
    "    \"us\": 3,\n",
    "    \"your\": 3,\n",
    "    \"account\": 1\n",
    "}"
   ]
  },
  {
   "cell_type": "markdown",
   "metadata": {},
   "source": [
    "$P(password \\mid spam) = 2/(2+1+3+3+3+1) = 2/13$ "
   ]
  },
  {
   "cell_type": "code",
   "execution_count": 10,
   "metadata": {},
   "outputs": [
    {
     "name": "stdout",
     "output_type": "stream",
     "text": [
      "0.15384615384615385\n"
     ]
    }
   ],
   "source": [
    "# or \n",
    "p_password_given_spam = spam['password']/sum(spam.values())\n",
    "print(p_password_given_spam)"
   ]
  },
  {
   "cell_type": "markdown",
   "metadata": {},
   "source": [
    "## Question: We know an email is ham, what is the probability that password be a word in it? (What is the frequency of password in a ham email?)\n",
    "\n",
    "- Hint: Create the dictionary of ham where its key would be unique words in spam emails and the value shows the occurance of that word"
   ]
  },
  {
   "cell_type": "code",
   "execution_count": 7,
   "metadata": {},
   "outputs": [],
   "source": [
    "ham = {\n",
    "    \"password\": 1,\n",
    "    \"review\": 2,\n",
    "    \"send\": 1,\n",
    "    \"us\": 1,\n",
    "    \"your\": 1,\n",
    "    \"account\": 0\n",
    "}"
   ]
  },
  {
   "cell_type": "markdown",
   "metadata": {},
   "source": [
    "$P(password \\mid ham) = 1/(1+2+1+1+1+0) = 1/6$ "
   ]
  },
  {
   "cell_type": "code",
   "execution_count": 9,
   "metadata": {},
   "outputs": [
    {
     "name": "stdout",
     "output_type": "stream",
     "text": [
      "0.16666666666666666\n"
     ]
    }
   ],
   "source": [
    "# or \n",
    "p_password_given_ham = ham['password']/sum(ham.values())\n",
    "print(p_password_given_ham)"
   ]
  },
  {
   "cell_type": "markdown",
   "metadata": {},
   "source": [
    "## Question: Assume we have seen password in an email, what is the probability that the email be spam?\n",
    "\n",
    "- $P(spam \\mid password) = ?$\n",
    "\n",
    "- Hint: Use Bayes' rule:\n",
    "\n",
    "$P(spam \\mid password) = (P(password \\mid spam) P(spam))/ P(password)$ \n",
    "\n",
    "$P(password) = P(password \\mid spam) P(spam) + P(password \\mid ham) P(ham)$\n"
   ]
  },
  {
   "cell_type": "code",
   "execution_count": 13,
   "metadata": {},
   "outputs": [
    {
     "name": "stdout",
     "output_type": "stream",
     "text": [
      "0.1581196581196581\n",
      "0.6486486486486487\n"
     ]
    }
   ],
   "source": [
    "p_spam = 4/6\n",
    "p_ham = 2/6\n",
    "p_password = p_password_given_spam*p_spam + p_password_given_ham*p_ham \n",
    "print(p_password)\n",
    "p_spam_given_password = p_password_given_spam*p_spam/p_password\n",
    "print(p_spam_given_password)"
   ]
  },
  {
   "cell_type": "markdown",
   "metadata": {},
   "source": [
    "## Activity: Do the above computation for each word by writing code"
   ]
  },
  {
   "cell_type": "code",
   "execution_count": 17,
   "metadata": {},
   "outputs": [
    {
     "name": "stdout",
     "output_type": "stream",
     "text": [
      "password\n",
      "review\n",
      "send\n",
      "us\n",
      "your\n",
      "account\n"
     ]
    }
   ],
   "source": [
    "p_spam = 4/6\n",
    "p_ham = 2/6\n",
    "ls1 = []\n",
    "ls2 = []\n",
    "for i in spam:\n",
    "    print(i)\n",
    "    p_word_given_spam = # TODO\n",
    "    p_word_given_ham = # TODO\n",
    "    # obtain the probability of each word by assuming the email is spam\n",
    "    # obtain the probability of each word by assuming the email is ham \n",
    "    \n",
    "    #TODO\n",
    "    \n",
    "    # obtain the probability that for a seen word it belongs to spam email\n",
    "    # obtain the probability that for a seen word it belongs to ham email\n",
    "    \n",
    "    #TODO\n"
   ]
  },
  {
   "cell_type": "markdown",
   "metadata": {},
   "source": [
    "## Quiz: Compute the expected value of a fair dice\n",
    "\n",
    "By Definition, the expected value of random events (a random variable) like rolling a dice is computed as: \n",
    "\n",
    "$E(X) = \\sum_{i=1}^{6}i * P(dice = i)$\n",
    "\n",
    "<img src=\"dice.jpg\" width=\"100\" height=\"100\">\n",
    "\n",
    "1- For a fair dice,\n",
    "\n",
    "compute the probability that when roll the dice then 1 apprears (P(dice = 1)), \n",
    "\n",
    "compute the probability that when roll the dice then 2 apprears (P(dice = 2)), \n",
    "\n",
    ".\n",
    "\n",
    ".\n",
    "\n",
    ".\n",
    "\n",
    "compute the probability that when roll the dice then 2 apprears (P(dice = 6))\n",
    "\n",
    "2- Compute $E(X)$ from the above steps."
   ]
  },
  {
   "cell_type": "markdown",
   "metadata": {},
   "source": [
    "### Answer:\n",
    "\n",
    "The expected value for a fair dice is:\n",
    "\n",
    "$E(X) = (1*1/6) + (2*1/6) + (3*1/6)+ (4*1/6) + (5*1/6) + (6*1/6)$\n",
    "\n",
    "$E(X) = 3.5$\n",
    "    "
   ]
  },
  {
   "cell_type": "code",
   "execution_count": 29,
   "metadata": {},
   "outputs": [
    {
     "name": "stdout",
     "output_type": "stream",
     "text": [
      "[1 4 1 2 5 4 2 5 3 5 5 1 5 6 4 4 1 3 5 6 6 1 2 4 6 4 1 2 3 4 4 3 1 6 6 2 2\n",
      " 1 6 4 2 4 2 1 6 6 4 2 2 5 2 2 6 1 1 5 4 4 5 1 5 4 1 6 3 5 5 5 2 3 6 4 6 4\n",
      " 6 2 2 4 5 5 3 1 3 1 4 3 2 2 1 4 3 6 5 2 3 6 3 3 2 4 1 2 2 4 4 6 3 3 3 4 4\n",
      " 6 6 5 5 1 2 3 6 5 3 3 4 2 5 1 2 3 5 6 1 4 4 1 6 3 5 2 4 3 5 3 1 4 1 3 6 3\n",
      " 4 2 4 3 1 2 5 6 1 3 4 3 3 4 1 3 3 5 1 1 6 2 6 5 2 2 6 5 1 4 4 4 3 6 3 5 5\n",
      " 2 6 5 3 2 6 2 2 5 3 3 5 6 5 6 2 3 3 2 6 2 6 3 1 5 4 1 5 6 5 4 6 4 5 3 5 4\n",
      " 2 5 6 6 1 5 1 6 1 1 1 1 1 2 2 2 3 1 2 3 3 5 3 4 1 4 5 5 4 3 3 3 5 3 4 1 5\n",
      " 2 1 2 6 5 3 6 3 4 4 3 4 4 2 4 5 5 4 4 1 2 3 3 2 4 4 5 4 2 3 5 5 1 3 5 1 4\n",
      " 1 3 4 1 5 4 4 3 4 5 3 1 6 6 1 5 3 6 1 6 5 6 4 5 6 5 4 2 6 5 4 6 3 2 2 6 4\n",
      " 3 5 2 2 3 4 2 3 1 1 3 6 2 1 2 4 6 4 2 3 1 6 3 3 2 6 6 5 2 5 1 3 4 5 6 3 3\n",
      " 6 6 3 4 2 1 6 1 4 5 1 3 1 4 2 1 6 2 5 6 6 2 5 5 5 3 4 2 4 1 3 1 2 1 3 6 3\n",
      " 1 1 1 5 2 3 2 1 1 4 5 3 2 1 2 5 6 5 1 2 1 3 5 2 3 1 6 1 5 5 6 4 4 6 4 3 3\n",
      " 2 6 3 1 5 5 3 6 3 3 3 4 3 5 4 1 2 6 5 3 2 1 4 6 4 2 4 6 5 3 1 1 5 4 6 6 3\n",
      " 6 5 2 4 5 3 6 3 1 4 1 1 3 5 5 4 2 2 4 6 1 5 1 5 6 1 1 4 6 2 6 6 3 1 5 3 1\n",
      " 2 6 5 2 1 3 5 6 3 3 2 5 6 6 5 6 5 1 6 3 3 6 6 6 6 6 1 2 4 6 4 4 3 5 5 1 4\n",
      " 1 2 3 2 3 6 4 3 1 1 4 5 5 2 5 6 1 6 2 6 5 3 5 2 2 2 3 5 4 3 5 2 5 4 4 1 5\n",
      " 6 4 2 1 2 2 2 1 5 1 2 6 2 6 5 1 6 4 6 4 3 1 3 5 2 5 2 3 3 1 6 1 2 6 3 6 5\n",
      " 1 3 3 1 4 6 4 4 1 5 2 6 2 4 4 5 4 1 4 6 6 4 3 2 1 4 6 2 2 5 5 2 2 2 5 1 5\n",
      " 5 6 1 3 2 1 3 6 5 2 3 4 4 4 1 1 5 6 1 2 5 2 5 1 6 6 2 1 2 6 1 5 5 1 3 1 3\n",
      " 6 6 6 6 3 5 1 4 3 6 3 5 5 2 4 4 2 2 2 5 1 5 4 5 5 4 6 3 6 3 1 1 4 5 1 1 1\n",
      " 4 4 1 1 5 1 6 2 1 1 4 1 1 5 6 1 1 3 3 6 2 6 1 5 4 2 3 2 6 1 2 6 3 3 2 1 3\n",
      " 3 3 6 3 4 1 6 5 4 1 4 5 1 5 2 5 3 2 2 3 6 2 6 5 3 2 6 1 5 4 2 6 2 2 3 2 5\n",
      " 6 5 4 3 3 3 2 6 5 3 4 5 3 2 5 4 2 2 6 5 2 6 1 6 2 3 2 5 2 5 5 4 3 6 3 4 1\n",
      " 4 6 2 5 5 1 4 1 6 3 2 3 4 1 4 5 4 4 1 1 6 2 1 4 1 6 5 5 2 6 6 4 1 1 1 1 5\n",
      " 6 1 2 5 2 6 2 3 6 2 4 5 4 6 1 1 4 6 2 3 4 4 1 5 3 6 5 6 3 4 1 2 6 5 1 4 6\n",
      " 4 4 6 2 1 3 4 5 4 2 2 4 5 5 5 3 3 3 4 2 2 6 1 6 6 5 5 6 6 4 1 4 1 1 2 2 2\n",
      " 6 2 5 2 5 4 1 4 6 1 4 4 5 3 6 3 3 3 2 3 4 5 4 4 1 6 3 3 2 3 2 6 6 5 5 4 5\n",
      " 4]\n",
      "3.508\n",
      "3.508\n"
     ]
    }
   ],
   "source": [
    "# We can show that E(X) is the mean of the random variable\n",
    "import numpy as np\n",
    "# lets roll the dice 1000 times \n",
    "dice = np.random.randint(low=1.0, high=7.0, size=1000)\n",
    "print(dice)\n",
    "# Compute the mean of dice list\n",
    "print(np.mean(dice))\n",
    "print(sum(dice)/len(dice))"
   ]
  },
  {
   "cell_type": "code",
   "execution_count": null,
   "metadata": {},
   "outputs": [],
   "source": []
  }
 ],
 "metadata": {
  "kernelspec": {
   "display_name": "Python 3",
   "language": "python",
   "name": "python3"
  },
  "language_info": {
   "codemirror_mode": {
    "name": "ipython",
    "version": 3
   },
   "file_extension": ".py",
   "mimetype": "text/x-python",
   "name": "python",
   "nbconvert_exporter": "python",
   "pygments_lexer": "ipython3",
   "version": "3.7.4"
  }
 },
 "nbformat": 4,
 "nbformat_minor": 2
}
