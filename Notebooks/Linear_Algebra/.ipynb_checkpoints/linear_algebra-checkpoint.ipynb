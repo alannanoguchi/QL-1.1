{
 "cells": [
  {
   "cell_type": "markdown",
   "metadata": {},
   "source": [
    "## Linear Algebra\n",
    "\n",
    "- Why we need Linear Algebra\n",
    "\n",
    "    1- To solve a system of linear equations\n",
    "    \n",
    "    2- Most of machine learning models and all most all deep learning models need it\n",
    "\n"
   ]
  },
  {
   "cell_type": "markdown",
   "metadata": {},
   "source": [
    "## Matrix-Vector and Matrix-Matrix Multiplication\n",
    "\n",
    "- On piece of paper, multiply the following matrix-vector:\n",
    "\n",
    "<img src=\"matrix_matrix.png\" width=\"300\" height=\"300\">\n",
    "\n",
    "- On piece of paper, multiply the following matrices:\n",
    "\n",
    "<img src=\"matrix_vector.png\" width=\"300\" height=\"300\">"
   ]
  },
  {
   "cell_type": "markdown",
   "metadata": {},
   "source": [
    "## Verify your answer in Python using Numpy"
   ]
  },
  {
   "cell_type": "code",
   "execution_count": 48,
   "metadata": {},
   "outputs": [
    {
     "name": "stdout",
     "output_type": "stream",
     "text": [
      "[[1 2]\n",
      " [0 1]\n",
      " [2 3]]\n",
      "[[2]\n",
      " [6]]\n",
      "[[14]\n",
      " [ 6]\n",
      " [22]]\n"
     ]
    }
   ],
   "source": [
    "A = np.array([[1, 2], [0, 1], [2, 3]])\n",
    "v = np.array([[2], [6]])\n",
    "print(A)\n",
    "print(v)\n",
    "print(np.dot(A, v))"
   ]
  },
  {
   "cell_type": "code",
   "execution_count": 45,
   "metadata": {},
   "outputs": [
    {
     "name": "stdout",
     "output_type": "stream",
     "text": [
      "[[1 2]\n",
      " [0 1]\n",
      " [2 3]]\n",
      "[[2 5]\n",
      " [6 7]]\n",
      "[[14 19]\n",
      " [ 6  7]\n",
      " [22 31]]\n"
     ]
    }
   ],
   "source": [
    "A = np.array([[1, 2], [0, 1], [2, 3]])\n",
    "B = np.array([[2, 5], [6, 7]])\n",
    "print(A)\n",
    "print(B)\n",
    "print(np.dot(A, B))"
   ]
  },
  {
   "cell_type": "markdown",
   "metadata": {},
   "source": [
    "## Question: Can we express linear regression in matrix-vector format?"
   ]
  },
  {
   "cell_type": "code",
   "execution_count": 1,
   "metadata": {},
   "outputs": [],
   "source": [
    "import numpy as np\n",
    "import matplotlib.pyplot as plt\n",
    "\n",
    "# Running Distance in Mile\n",
    "x = np.array([3.3,4.4,5.5,6.71,6.93,4.168,9.779,6.182,7.59,2.167,\n",
    "                         7.042,10.791,5.313,7.997,5.654,9.27,3.1])\n",
    "\n",
    "# Water Drinks in Litre\n",
    "y = np.array([1.7,2.76,2.09,3.19,1.694,1.573,3.366,2.596,2.53,1.221,\n",
    "                         2.827,3.465,1.65,2.904,2.42,2.94,1.3])\n"
   ]
  },
  {
   "cell_type": "markdown",
   "metadata": {},
   "source": [
    "## We can obtain the prediction vector as the following: "
   ]
  },
  {
   "cell_type": "code",
   "execution_count": 3,
   "metadata": {},
   "outputs": [
    {
     "name": "stdout",
     "output_type": "stream",
     "text": [
      "[1.629196532, 1.905994966, 2.1827934, 2.4872716774, 2.5426313642, 1.84761565992, 3.25953930826, 2.3544084290800003, 2.7087104245999996, 1.34409414498, 2.57081447748, 3.51419386754, 2.13573766622, 2.81112584518, 2.2215451807599997, 3.1314571237999997, 1.578869544]\n"
     ]
    }
   ],
   "source": [
    "w1 = 0.25163494 \n",
    "w0 = 0.79880123 \n",
    "y_pred = [w1*i + w0 for i in x]\n",
    "print(y_pred)"
   ]
  },
  {
   "cell_type": "markdown",
   "metadata": {},
   "source": [
    "## Also, we can define our feature matrix as X and weight vector as w"
   ]
  },
  {
   "cell_type": "code",
   "execution_count": 31,
   "metadata": {},
   "outputs": [
    {
     "name": "stdout",
     "output_type": "stream",
     "text": [
      "[[ 3.3    1.   ]\n",
      " [ 4.4    1.   ]\n",
      " [ 5.5    1.   ]\n",
      " [ 6.71   1.   ]\n",
      " [ 6.93   1.   ]\n",
      " [ 4.168  1.   ]\n",
      " [ 9.779  1.   ]\n",
      " [ 6.182  1.   ]\n",
      " [ 7.59   1.   ]\n",
      " [ 2.167  1.   ]\n",
      " [ 7.042  1.   ]\n",
      " [10.791  1.   ]\n",
      " [ 5.313  1.   ]\n",
      " [ 7.997  1.   ]\n",
      " [ 5.654  1.   ]\n",
      " [ 9.27   1.   ]\n",
      " [ 3.1    1.   ]]\n"
     ]
    }
   ],
   "source": [
    "# print(np.ones((len(x), 1)))\n",
    "# print(np.transpose([x]))\n",
    "# Concatenate two matrix column-wise \n",
    "X = np.concatenate((np.transpose([x]), np.ones((len(x), 1))), axis=1)\n",
    "print(X)"
   ]
  },
  {
   "cell_type": "code",
   "execution_count": 32,
   "metadata": {},
   "outputs": [
    {
     "data": {
      "text/plain": [
       "(17, 2)"
      ]
     },
     "execution_count": 32,
     "metadata": {},
     "output_type": "execute_result"
    }
   ],
   "source": [
    "X.shape"
   ]
  },
  {
   "cell_type": "code",
   "execution_count": 33,
   "metadata": {},
   "outputs": [],
   "source": [
    "w = np.array([w1, w0])"
   ]
  },
  {
   "cell_type": "code",
   "execution_count": 35,
   "metadata": {},
   "outputs": [
    {
     "data": {
      "text/plain": [
       "array([1.62919653, 1.90599497, 2.1827934 , 2.48727168, 2.54263136,\n",
       "       1.84761566, 3.25953931, 2.35440843, 2.70871042, 1.34409414,\n",
       "       2.57081448, 3.51419387, 2.13573767, 2.81112585, 2.22154518,\n",
       "       3.13145712, 1.57886954])"
      ]
     },
     "execution_count": 35,
     "metadata": {},
     "output_type": "execute_result"
    }
   ],
   "source": [
    "np.dot(X, w)"
   ]
  },
  {
   "cell_type": "markdown",
   "metadata": {},
   "source": [
    "## Another way"
   ]
  },
  {
   "cell_type": "code",
   "execution_count": 42,
   "metadata": {},
   "outputs": [
    {
     "name": "stdout",
     "output_type": "stream",
     "text": [
      "[[1. 1. 1. 1. 1. 1. 1. 1. 1. 1. 1. 1. 1. 1. 1. 1. 1.]]\n",
      "[array([ 3.3  ,  4.4  ,  5.5  ,  6.71 ,  6.93 ,  4.168,  9.779,  6.182,\n",
      "        7.59 ,  2.167,  7.042, 10.791,  5.313,  7.997,  5.654,  9.27 ,\n",
      "        3.1  ])\n",
      " array([[1., 1., 1., 1., 1., 1., 1., 1., 1., 1., 1., 1., 1., 1., 1., 1.,\n",
      "        1.]])]\n"
     ]
    },
    {
     "data": {
      "text/plain": [
       "array([[1.62919653, 1.90599497, 2.1827934 , 2.48727168, 2.54263136,\n",
       "        1.84761566, 3.25953931, 2.35440843, 2.70871042, 1.34409414,\n",
       "        2.57081448, 3.51419387, 2.13573767, 2.81112585, 2.22154518,\n",
       "        3.13145712, 1.57886954]])"
      ]
     },
     "execution_count": 42,
     "metadata": {},
     "output_type": "execute_result"
    }
   ],
   "source": [
    "v_ones = np.ones((1, len(x)))\n",
    "print(v_ones)\n",
    "X = np.array([x, np.ones((1, len(x)))])\n",
    "print(X)\n",
    "w = np.array([w1, w0])\n",
    "np.dot(w, X)"
   ]
  },
  {
   "cell_type": "markdown",
   "metadata": {},
   "source": [
    "## Transpose of a Matrix or a Vector \n",
    "\n",
    "- In linear algebra, the transpose of a matrix is an operator which switches the row and column indices of the matrix by producing another matrix denoted as Aᵀ\n",
    "\n",
    "<img src=\"matrix-transpose.jpg\" width=\"300\" height=\"300\">"
   ]
  },
  {
   "cell_type": "markdown",
   "metadata": {},
   "source": [
    "## Transpose the Matrix in Numpy"
   ]
  },
  {
   "cell_type": "code",
   "execution_count": 51,
   "metadata": {},
   "outputs": [
    {
     "name": "stdout",
     "output_type": "stream",
     "text": [
      "[[1 2 3]\n",
      " [4 5 6]\n",
      " [7 8 9]]\n",
      "[[1 4 7]\n",
      " [2 5 8]\n",
      " [3 6 9]]\n"
     ]
    }
   ],
   "source": [
    "A = np.array([[1, 2, 3], [4, 5, 6], [7, 8, 9]])\n",
    "print(A)\n",
    "print(A.T)"
   ]
  },
  {
   "cell_type": "markdown",
   "metadata": {},
   "source": [
    "## Norm of a vector\n",
    "\n",
    "- We have different norm, here we mean L2-norm, which measures the length of a vector from origin"
   ]
  },
  {
   "cell_type": "markdown",
   "metadata": {},
   "source": [
    "## Activity: what is the length of the following vector:\n",
    "\n",
    "- v = [3, 4]"
   ]
  },
  {
   "cell_type": "code",
   "execution_count": 55,
   "metadata": {},
   "outputs": [
    {
     "data": {
      "text/plain": [
       "5.0"
      ]
     },
     "execution_count": 55,
     "metadata": {},
     "output_type": "execute_result"
    }
   ],
   "source": [
    "from numpy import linalg as LA\n",
    "v = np.array([3, 4])\n",
    "LA.norm(v)"
   ]
  },
  {
   "cell_type": "markdown",
   "metadata": {},
   "source": [
    "## Activity: Show that norm of a vector is the sqrt of V*V.T"
   ]
  },
  {
   "cell_type": "code",
   "execution_count": 59,
   "metadata": {},
   "outputs": [
    {
     "data": {
      "text/plain": [
       "5.0"
      ]
     },
     "execution_count": 59,
     "metadata": {},
     "output_type": "execute_result"
    }
   ],
   "source": [
    "v = np.array([3, 4])\n",
    "np.sqrt(np.dot(v,v.T))"
   ]
  },
  {
   "cell_type": "markdown",
   "metadata": {},
   "source": [
    "## Activity: The distance between two vector u and v\n",
    "\n",
    "<img src=\"norm.png\" width=\"500\" height=\"500\">"
   ]
  },
  {
   "cell_type": "code",
   "execution_count": 63,
   "metadata": {},
   "outputs": [
    {
     "name": "stdout",
     "output_type": "stream",
     "text": [
      "1.4142135623730951\n",
      "7.280109889280518\n",
      "6.082762530298219\n"
     ]
    }
   ],
   "source": [
    "u = np.array([1, 1])\n",
    "v = np.array([2, 2])\n",
    "r = np.array([3, 8])\n",
    "print(LA.norm(u - v))\n",
    "print(LA.norm(u - r))\n",
    "print(LA.norm(v - r))"
   ]
  },
  {
   "cell_type": "markdown",
   "metadata": {},
   "source": [
    "## Resources:\n",
    "\n",
    "- https://docs.scipy.org/doc/numpy/reference/generated/numpy.concatenate.html\n",
    "\n",
    "- http://matrixmultiplication.xyz"
   ]
  }
 ],
 "metadata": {
  "kernelspec": {
   "display_name": "Python 3",
   "language": "python",
   "name": "python3"
  },
  "language_info": {
   "codemirror_mode": {
    "name": "ipython",
    "version": 3
   },
   "file_extension": ".py",
   "mimetype": "text/x-python",
   "name": "python",
   "nbconvert_exporter": "python",
   "pygments_lexer": "ipython3",
   "version": "3.6.5"
  }
 },
 "nbformat": 4,
 "nbformat_minor": 2
}
