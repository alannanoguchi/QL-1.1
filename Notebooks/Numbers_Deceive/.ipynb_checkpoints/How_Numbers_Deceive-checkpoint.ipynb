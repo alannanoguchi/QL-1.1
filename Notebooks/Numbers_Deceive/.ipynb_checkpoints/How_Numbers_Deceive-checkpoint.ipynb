{
 "cells": [
  {
   "cell_type": "markdown",
   "metadata": {},
   "source": [
    "# How Numbers Decieve\n",
    "\n",
    "Adapted from _Using and Understanding Mathematics: A Quantitative Reasoning Approach_\n",
    "\n",
    "## What is this?\n",
    "\n",
    "_Source: [Owlcation](https://owlcation.com/social-sciences/How-To-Beat-A-Polygraph-Test)_\n",
    "![polygraph](https://usercontent1.hubstatic.com/13722112_f520.jpg)\n",
    "\n",
    "It is a polygraph test, aka a lie detector you may have seen them in movies where police or FBI are trying to see if their suspect is lying or not. These are real machines, and they have a 90% accuracy. Most people would assume that means that only 10% of the people who fail the test are actually lying. However, the _actual_ percentage of false accusations can be significantly higher.\n",
    "\n",
    "### Question: How high do you think the percentage actually is?\n",
    "\n",
    "a) 20%\n",
    "\n",
    "b) 120%\n",
    "\n",
    "c) 90%\n",
    "\n",
    "d) 60%\n"
   ]
  },
  {
   "cell_type": "markdown",
   "metadata": {},
   "source": [
    "### Answer\n",
    "\n",
    "In some cases, a polygraph can have _90% false accusations_\n",
    "\n",
    "### What does all of this mean?\n",
    "\n",
    "While numbers themselves can't lie, they can be presented or interpreted in a way that can be deceiving, and we need to be careful in our own interpretations of them. Today, we'll go over some of the ways in which numbers can decieve and how we can spot the deception\n"
   ]
  },
  {
   "cell_type": "markdown",
   "metadata": {},
   "source": [
    "## Learning Outcomes\n",
    "\n",
    "By the end of today's class, you should be able to...\n",
    "\n",
    "1. Critically think about reported percentages and investigate their honesty\n",
    "1. Differentiate between True Positives, False Positives, True Negatives, and False Negatives"
   ]
  },
  {
   "cell_type": "markdown",
   "metadata": {},
   "source": [
    "## Acne Treatment\n",
    "\n",
    "Let's say a pharmaceutical company creates an updated formula to their acne-curing product. They want to know if their new formula is better than their old formula.\n",
    "\n",
    "- 90 people are given the old formula\n",
    "- 110 people are given the new formula\n",
    "- Those with mild acne: 2/10 who got the old formula were cured (20%), 30/90 who got the new formula were cured (33%)\n",
    "- Those with severe acne: 40/80 who got the old formula were cured (50%), and 12/20 who got the new formula were cured (60%)\n",
    "\n",
    "_Source: Using and Understanding Mathematics_\n",
    "![acne](acne.png)\n",
    "\n",
    "Given that the new formula got higher percentage success rates than the old one, many  would say that the new formula is the superior product.\n",
    "\n",
    "### But let's dig a little deeper:\n",
    "\n",
    "- 90 patients total (10 mild, 80 severe acne) got the **old formula** and 42 of them were cured (2 + 40) for an overall **cure rate of 42/90 = 46.7%**\n",
    "- 110 patients total (90 mild, 20 severe acne) got the **new formula**, and 42 of them were also cured (30 + 12) for an **overall cure rate of 42/110 = 38.2%**\n",
    "\n",
    "This shows that the old formula actually out preformed the new formula by 8.5%! Even though the new formula appeared to out perform across the group comparisions, the old formula did better overall. \n",
    "\n",
    "This is what's known as **Simpson's Paradox:** when results look positive locally (new formula looked better when just comparing percentages against the old formula), but are actually worse when the data is combined as a whole."
   ]
  },
  {
   "cell_type": "markdown",
   "metadata": {},
   "source": [
    "## Activity: Basketball Shots\n",
    "\n",
    "We are tracking two players in a basketball game. We're given the following information:\n",
    "\n",
    "- Kevin scored 4/10 of his shots in the first half, and 3/4 of his shots in the second half\n",
    "- Kobe scored 1/4 of his shots in the first half, and 7/10 of his shots in the second half\n",
    "\n",
    "_Source: Using and Understanding Mathematics_\n",
    "![basketball](basketball.png)\n",
    "\n",
    "At first glance, it looks like Kevin did better overall the Kobe. Is this true?\n",
    "\n",
    "### Think, Pair, Share\n",
    "\n",
    "- 5 min: Take some time to work out the answer on your own\n",
    "- 2 min: Discuss your solution and reasoning with a partner.\n",
    "- 5 min: The class will go over the solution with the instructor"
   ]
  },
  {
   "cell_type": "markdown",
   "metadata": {},
   "source": [
    "## Breast Cancer Tests\n",
    "\n",
    "Imagine you are a doctor who treats patients with breast tumors. You know that the mammogram screening test is 85% accurate in terms of identifying if a tumor is malignant (cancerous) or benign (not cancerous).\n",
    "\n",
    "If the test says a patient has a malignant tumor, most people would think that there's a very high chance that the patient has cancer.\n",
    "\n",
    "_But we're not most people!_\n",
    "\n",
    "Let's consider the following information:\n",
    "\n",
    "- We have 10,000 patients with tumors\n",
    "- We know that 1% of tumors are malignant, so we know that 10,000 * 0.01 = 100 patients actually have cancer\n",
    "- Therefore, we also know that 9900 patients do _not_ have cancer\n",
    "\n",
    "So now we need to determine which 100 of the 10,000 patients are the ones with a cancerous tumor. Given our test is 85% accurate, and that we consider the test _positive_ if it correctly detects a malignant tumor, we can determine the following:\n",
    "\n",
    "- Of the 100 patients who have cancer, the test will correctly identify 85 of them (85%) as having cancer. These are what we call **true positives**\n",
    "- Of the 100 patients who have cancer 15 of them (15%) will be incorrectly identified as not having cancer, even  though their tumors are indeed malignant. These are examples of **false negatives**\n",
    "- Of the 9900 patients who do not have cancer, 8415 of them (85%) will be correctly identified as not having cancer. These are our **true negatives**\n",
    "- Of the 9900 patients who do not have cancer, 1485 (15%) of them will be incorrectly identified as having cancer. These are examples of **false positives**\n",
    "\n",
    "See the below table for a summary:\n",
    "\n",
    "\n",
    "_Source: Using and Understanding Mathematics_\n",
    "![cancer](cancer.png)\n",
    "\n",
    "Therefore, we know that there is a total of 1570 (85 + 1485) patients who the screening test will say has cancer. Therefore, when a mammogram screening test comes back positive, we know there is only a 85/1570 = 5.4% chance that the patient actually has cancer!"
   ]
  },
  {
   "cell_type": "markdown",
   "metadata": {},
   "source": [
    "## Activity: False Negatives\n",
    "\n",
    "Given the previous information, what is the percentage of patients with negative test results who actually have cancer (false negatives)?\n",
    "\n",
    "### Think, Pair, Share\n",
    "\n",
    "- 5 min: Take some time to work out the answer on your own\n",
    "- 2 min: Discuss your solution and reasoning with a partner.\n",
    "- 5 min: The class will go over the solution with the instructor"
   ]
  },
  {
   "cell_type": "markdown",
   "metadata": {},
   "source": [
    "## Polygraph Revisited\n",
    "\n",
    "Now that we've got some practice in with how to investigate our numbers more thoroughly, let's revisit that polygraph example in the beginning.\n",
    "\n",
    "### Flowchart\n",
    "\n",
    "Review [this polygraph flowchart](https://docs.google.com/presentation/d/1aIfy_eewNDPtktaxQ1jO6RijkHBB9ZoRSTgGK745fH0/edit?usp=sharing), being careful to step through it piece by piece, building it up as we go along. Make sure to view it in presentation mode so that you get the full benefits of the animations!\n",
    "\n",
    "### Results\n",
    "\n",
    "From this flowchart, we see that of the people marked as lying by the polygraph (108), 99/108 = 91.7% were actually telling the truth! This means that almost 92% of the rejected applicants for the job would actually have been qualified!"
   ]
  },
  {
   "cell_type": "markdown",
   "metadata": {},
   "source": [
    "## Activity: Airline Arrivals\n",
    "\n",
    "Review the following table about arrival data for two airlines in five cities (this is real data, the airline names have been changed):\n",
    "\n",
    "_Source: Using and Understanding Mathematics_\n",
    "![airplane](airplane.png)\n",
    "\n",
    "Given this information, answer the following questions:\n",
    "\n",
    "1. Based on the `% On Time` columns in the above table, which airline has the higher percentage of on-time flights to the five cities? Note that you shouldn't need to calculate anything, just read the columns in the table\n",
    "1. Find the percentage of on-time flights for the two airlines for the total number of arrivals in all five cities. For example, there were 3,775 total arrivals done by Excelsior Airlines, what percentage of them were on-time? Same question for Paradise Airlines\n",
    "1. Explain why the results from Question 2 and Question 1 differ"
   ]
  },
  {
   "cell_type": "markdown",
   "metadata": {},
   "source": [
    "## Stretch Challenge: High School Drug Tests\n",
    "\n",
    "A high school is administiring a drug test for its upcoming nationals volleyball game. Athletes who test positive for drugs are eliminated from the game.\n",
    "\n",
    "- From previous studies, we know that the tests are 95% accuruate\n",
    "- You can safely assume that 4% of athletes are using drugs\n",
    "- There will be 1000 athletes participating in this game\n",
    "\n",
    "What fraction of the athletes who fail the test are falsely accused?"
   ]
  },
  {
   "cell_type": "markdown",
   "metadata": {},
   "source": [
    "## Stretch Challenge: Politcal Math\n",
    "\n",
    "People will often focus on the numbers that will benefit their side. Neither side is more fair than the other, as each one will generally put a deliberate focus on a percentage in order to mask the absolute change, which may be less favorable towards their position. This is known as **Selective Truth**.\n",
    "\n",
    "For example, let's say that government spending for a popular education program was \\\\$100 million this year. Spending for the program next year is slated to be \\\\$102 million. Note that inflation is supposed to increase by 3% over the next year, meaning \\\\$1 this year is equivalent to \\\\$1.03 next year.\n",
    "\n",
    "Supporters of the program are claiming that this is actually a cut to the program, whereas those who oppose the program are complaining the budget should be cut, not increased. Is one side lying?"
   ]
  },
  {
   "cell_type": "code",
   "execution_count": null,
   "metadata": {},
   "outputs": [],
   "source": []
  }
 ],
 "metadata": {
  "kernelspec": {
   "display_name": "Python 3",
   "language": "python",
   "name": "python3"
  },
  "language_info": {
   "codemirror_mode": {
    "name": "ipython",
    "version": 3
   },
   "file_extension": ".py",
   "mimetype": "text/x-python",
   "name": "python",
   "nbconvert_exporter": "python",
   "pygments_lexer": "ipython3",
   "version": "3.7.1"
  }
 },
 "nbformat": 4,
 "nbformat_minor": 2
}
